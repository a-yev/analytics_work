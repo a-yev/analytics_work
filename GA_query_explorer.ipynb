{
 "cells": [
  {
   "cell_type": "markdown",
   "metadata": {},
   "source": [
    "<h1>Working with Google Analytics Data</h1>"
   ]
  },
  {
   "cell_type": "markdown",
   "metadata": {},
   "source": [
    "GA query explorer: https://ga-dev-tools.appspot.com/query-explorer/"
   ]
  },
  {
   "cell_type": "code",
   "execution_count": 1,
   "metadata": {},
   "outputs": [],
   "source": [
    "import pandas as pd # Pandas is an open source library providing high-performance, easy-to-use data structures and data analysis tools for Python\n",
    "import json # JSON encoder and decoder for Python\n",
    "import requests # Library for sending HTTP requests"
   ]
  },
  {
   "cell_type": "code",
   "execution_count": null,
   "metadata": {},
   "outputs": [],
   "source": [
    "from getpass import getpass # required only for hiding your variables\n",
    "api_query_uri = getpass('') # get the URI from GA query explorer\n",
    "r = requests.get(api_query_uri) # make the request\n",
    "data= r.json() # read data from a JSON format\n",
    "df = pd.DataFrame(data['rows']) # turn data into a Pandas data frame\n",
    "df = df.rename(columns={0: 'Date', 1: 'Sessions', 2: 'Users'}) # giving the columns some proper titles\n",
    "df['Sessions'] = df['Sessions'].astype(int) # formatting sessions as ints\n",
    "df['Users'] = df['Users'].astype(int) # formatting users as ints\n",
    "df['Date'] = pd.to_datetime(df['Date'])\n",
    "df.head() # printing the first five rows"
   ]
  },
  {
   "cell_type": "code",
   "execution_count": null,
   "metadata": {},
   "outputs": [],
   "source": []
  }
 ],
 "metadata": {
  "kernelspec": {
   "display_name": "Python 3",
   "language": "python",
   "name": "python3"
  },
  "language_info": {
   "codemirror_mode": {
    "name": "ipython",
    "version": 2
   },
   "file_extension": ".py",
   "mimetype": "text/x-python",
   "name": "python",
   "nbconvert_exporter": "python",
   "pygments_lexer": "ipython2",
   "version": "2.7.12"
  }
 },
 "nbformat": 4,
 "nbformat_minor": 2
}
